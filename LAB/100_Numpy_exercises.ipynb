{
 "cells": [
  {
   "cell_type": "markdown",
   "id": "d46e26d4",
   "metadata": {},
   "source": [
    "# 100 numpy exercises\n",
    "\n",
    "This is a collection of exercises that have been collected in the numpy mailing list, on stack overflow\n",
    "and in the numpy documentation. The goal of this collection is to offer a quick reference for both old\n",
    "and new users but also to provide a set of exercises for those who teach.\n",
    "\n",
    "\n",
    "If you find an error or think you've a better way to solve some of them, feel\n",
    "free to open an issue at <https://github.com/rougier/numpy-100>."
   ]
  },
  {
   "cell_type": "markdown",
   "id": "dcc6b1ac",
   "metadata": {},
   "source": [
    "#### 1. Import the numpy package under the name `np` (★☆☆)"
   ]
  },
  {
   "cell_type": "code",
   "execution_count": 1,
   "id": "6c52078e",
   "metadata": {},
   "outputs": [],
   "source": [
    "import numpy as np"
   ]
  },
  {
   "cell_type": "markdown",
   "id": "118ded29",
   "metadata": {},
   "source": [
    "#### 2. Print the numpy version and the configuration (★☆☆)"
   ]
  },
  {
   "cell_type": "code",
   "execution_count": 2,
   "id": "023a2c52",
   "metadata": {},
   "outputs": [
    {
     "name": "stdout",
     "output_type": "stream",
     "text": [
      "2.2.3\n"
     ]
    }
   ],
   "source": [
    "print(np.__version__)\n",
    "# np.show_config()"
   ]
  },
  {
   "cell_type": "markdown",
   "id": "172b913a",
   "metadata": {},
   "source": [
    "#### 3. Create a null vector of size 10 (★☆☆)"
   ]
  },
  {
   "cell_type": "code",
   "execution_count": 3,
   "id": "df54025a",
   "metadata": {},
   "outputs": [
    {
     "name": "stdout",
     "output_type": "stream",
     "text": [
      "[0. 0. 0. 0. 0. 0. 0. 0. 0. 0.]\n"
     ]
    }
   ],
   "source": [
    "v = np.zeros(10)\n",
    "print(v)"
   ]
  },
  {
   "cell_type": "markdown",
   "id": "95ee9e07",
   "metadata": {},
   "source": [
    "#### 4. How to find the memory size of any array (★☆☆)"
   ]
  },
  {
   "cell_type": "code",
   "execution_count": 4,
   "id": "5c5b0950",
   "metadata": {},
   "outputs": [
    {
     "name": "stdout",
     "output_type": "stream",
     "text": [
      "Size in bytes of v = 800\n",
      "Size in bytes of v = 800\n"
     ]
    }
   ],
   "source": [
    "v = np.random.random(100)\n",
    "print(f\"Size in bytes of v = {v.nbytes}\")\n",
    "# or\n",
    "print(f\"Size in bytes of v = {v.size * v.itemsize}\")"
   ]
  },
  {
   "cell_type": "markdown",
   "id": "45fca154",
   "metadata": {},
   "source": [
    "#### 5. How to get the documentation of the numpy add function from the command line? (★☆☆)"
   ]
  },
  {
   "cell_type": "code",
   "execution_count": 5,
   "id": "fcb1248a",
   "metadata": {},
   "outputs": [
    {
     "name": "stdout",
     "output_type": "stream",
     "text": [
      "add(x1, x2, /, out=None, *, where=True, casting='same_kind', order='K', dtype=None, subok=True[, signature])\n",
      "\n",
      "Add arguments element-wise.\n",
      "\n",
      "Parameters\n",
      "----------\n",
      "x1, x2 : array_like\n",
      "    The arrays to be added.\n",
      "    If ``x1.shape != x2.shape``, they must be broadcastable to a common\n",
      "    shape (which becomes the shape of the output).\n",
      "out : ndarray, None, or tuple of ndarray and None, optional\n",
      "    A location into which the result is stored. If provided, it must have\n",
      "    a shape that the inputs broadcast to. If not provided or None,\n",
      "    a freshly-allocated array is returned. A tuple (possible only as a\n",
      "    keyword argument) must have length equal to the number of outputs.\n",
      "where : array_like, optional\n",
      "    This condition is broadcast over the input. At locations where the\n",
      "    condition is True, the `out` array will be set to the ufunc result.\n",
      "    Elsewhere, the `out` array will retain its original value.\n",
      "    Note that if an uninitialized `out` array is created via the default\n",
      "    ``out=None``, locations within it where the condition is False will\n",
      "    remain uninitialized.\n",
      "**kwargs\n",
      "    For other keyword-only arguments, see the\n",
      "    :ref:`ufunc docs <ufuncs.kwargs>`.\n",
      "\n",
      "Returns\n",
      "-------\n",
      "add : ndarray or scalar\n",
      "    The sum of `x1` and `x2`, element-wise.\n",
      "    This is a scalar if both `x1` and `x2` are scalars.\n",
      "\n",
      "Notes\n",
      "-----\n",
      "Equivalent to `x1` + `x2` in terms of array broadcasting.\n",
      "\n",
      "Examples\n",
      "--------\n",
      ">>> import numpy as np\n",
      ">>> np.add(1.0, 4.0)\n",
      "5.0\n",
      ">>> x1 = np.arange(9.0).reshape((3, 3))\n",
      ">>> x2 = np.arange(3.0)\n",
      ">>> np.add(x1, x2)\n",
      "array([[  0.,   2.,   4.],\n",
      "       [  3.,   5.,   7.],\n",
      "       [  6.,   8.,  10.]])\n",
      "\n",
      "The ``+`` operator can be used as a shorthand for ``np.add`` on ndarrays.\n",
      "\n",
      ">>> x1 = np.arange(9.0).reshape((3, 3))\n",
      ">>> x2 = np.arange(3.0)\n",
      ">>> x1 + x2\n",
      "array([[ 0.,  2.,  4.],\n",
      "       [ 3.,  5.,  7.],\n",
      "       [ 6.,  8., 10.]])\n"
     ]
    }
   ],
   "source": [
    "!python3 -c \"import numpy; numpy.info(numpy.add)\""
   ]
  },
  {
   "cell_type": "markdown",
   "id": "674e8019",
   "metadata": {},
   "source": [
    "#### 6. Create a null vector of size 10 but the fifth value which is 1 (★☆☆)"
   ]
  },
  {
   "cell_type": "code",
   "execution_count": 6,
   "id": "452df2a7",
   "metadata": {},
   "outputs": [
    {
     "name": "stdout",
     "output_type": "stream",
     "text": [
      "[0. 0. 0. 0. 1. 0. 0. 0. 0. 0.]\n"
     ]
    }
   ],
   "source": [
    "v = np.zeros(10)\n",
    "v[4] = 1\n",
    "print(v)"
   ]
  },
  {
   "cell_type": "markdown",
   "id": "7685e337",
   "metadata": {},
   "source": [
    "#### 7. Create a vector with values ranging from 10 to 49 (★☆☆)"
   ]
  },
  {
   "cell_type": "code",
   "execution_count": 7,
   "id": "10847d11",
   "metadata": {},
   "outputs": [
    {
     "name": "stdout",
     "output_type": "stream",
     "text": [
      "[10 11 12 13 14 15 16 17 18 19 20 21 22 23 24 25 26 27 28 29 30 31 32 33\n",
      " 34 35 36 37 38 39 40 41 42 43 44 45 46 47 48 49]\n"
     ]
    }
   ],
   "source": [
    "v = np.arange(10, 50)\n",
    "print(v)"
   ]
  },
  {
   "cell_type": "markdown",
   "id": "54c913ba",
   "metadata": {},
   "source": [
    "#### 8. Reverse a vector (first element becomes last) (★☆☆)"
   ]
  },
  {
   "cell_type": "code",
   "execution_count": 8,
   "id": "34722e83",
   "metadata": {},
   "outputs": [
    {
     "name": "stdout",
     "output_type": "stream",
     "text": [
      "[0.19141626 0.67040787 0.73677947 0.52932612 0.92385167]\n",
      "Reverse v = [0.92385167 0.52932612 0.73677947 0.67040787 0.19141626]\n"
     ]
    }
   ],
   "source": [
    "v = np.random.random(5)\n",
    "print(v)\n",
    "print(f\"Reverse v = {v[::-1]}\")"
   ]
  },
  {
   "cell_type": "markdown",
   "id": "8e72fd08",
   "metadata": {},
   "source": [
    "#### 9. Create a 3x3 matrix with values ranging from 0 to 8 (★☆☆)"
   ]
  },
  {
   "cell_type": "code",
   "execution_count": 9,
   "id": "e18eef56",
   "metadata": {},
   "outputs": [
    {
     "name": "stdout",
     "output_type": "stream",
     "text": [
      "[[0 1 2]\n",
      " [3 4 5]\n",
      " [6 7 8]]\n"
     ]
    }
   ],
   "source": [
    "mat = np.arange(9).reshape(3, 3)\n",
    "print(mat)"
   ]
  },
  {
   "cell_type": "markdown",
   "id": "088424fc",
   "metadata": {},
   "source": [
    "#### 10. Find indices of non-zero elements from [1,2,0,0,4,0] (★☆☆)"
   ]
  },
  {
   "cell_type": "code",
   "execution_count": 10,
   "id": "9a402d06",
   "metadata": {},
   "outputs": [],
   "source": [
    "v = np.array([1, 2, 0, 0, 4, 0])"
   ]
  },
  {
   "cell_type": "markdown",
   "id": "3f347de9",
   "metadata": {},
   "source": [
    "#### 11. Create a 3x3 identity matrix (★☆☆)"
   ]
  },
  {
   "cell_type": "code",
   "execution_count": 11,
   "id": "e38459c2",
   "metadata": {},
   "outputs": [
    {
     "name": "stdout",
     "output_type": "stream",
     "text": [
      "[[1. 0. 0.]\n",
      " [0. 1. 0.]\n",
      " [0. 0. 1.]]\n"
     ]
    }
   ],
   "source": [
    "mat = np.eye(3)\n",
    "print(mat)"
   ]
  },
  {
   "cell_type": "markdown",
   "id": "24e98f25",
   "metadata": {},
   "source": [
    "#### 12. Create a 3x3x3 array with random values (★☆☆)"
   ]
  },
  {
   "cell_type": "code",
   "execution_count": 12,
   "id": "94752bb3",
   "metadata": {},
   "outputs": [
    {
     "name": "stdout",
     "output_type": "stream",
     "text": [
      "[[[0.50743332 0.94586722 0.61138968]\n",
      "  [0.31503523 0.04527109 0.53624599]\n",
      "  [0.2721911  0.82631866 0.49473506]]\n",
      "\n",
      " [[0.41546358 0.63037352 0.56811394]\n",
      "  [0.10543205 0.00294178 0.04258314]\n",
      "  [0.54349896 0.78424203 0.94273808]]\n",
      "\n",
      " [[0.77398013 0.57525926 0.23753832]\n",
      "  [0.07005115 0.58483673 0.60522308]\n",
      "  [0.43352955 0.02394891 0.68982507]]]\n"
     ]
    }
   ],
   "source": [
    "arr = np.random.random((3, 3, 3))\n",
    "print(arr)"
   ]
  },
  {
   "cell_type": "markdown",
   "id": "7cbca2cc",
   "metadata": {},
   "source": [
    "#### 13. Create a 10x10 array with random values and find the minimum and maximum values (★☆☆)"
   ]
  },
  {
   "cell_type": "code",
   "execution_count": 13,
   "id": "c0643b1f",
   "metadata": {},
   "outputs": [
    {
     "name": "stdout",
     "output_type": "stream",
     "text": [
      "Min & Max values of matrix \n",
      "[[ 3 79 60 38 53]\n",
      " [76 24 29 31 20]\n",
      " [ 5 17 56  3  9]\n",
      " [30 13  4 63  2]\n",
      " [58 56 76  8 84]] = [2, 84]\n"
     ]
    }
   ],
   "source": [
    "arr = np.random.randint(0, 100, (5, 5))\n",
    "print(f\"Min & Max values of matrix \\n{arr} = [{arr.min()}, {arr.max()}]\")"
   ]
  },
  {
   "cell_type": "markdown",
   "id": "6cab4cbb",
   "metadata": {},
   "source": [
    "#### 14. Create a random vector of size 30 and find the mean value (★☆☆)"
   ]
  },
  {
   "cell_type": "code",
   "execution_count": 14,
   "id": "e922a524",
   "metadata": {},
   "outputs": [
    {
     "name": "stdout",
     "output_type": "stream",
     "text": [
      "The mean value of v = 0.47169505181923344\n"
     ]
    }
   ],
   "source": [
    "v = np.random.random(30)\n",
    "print(f\"The mean value of v = {v.mean()}\")"
   ]
  },
  {
   "cell_type": "markdown",
   "id": "72053be8",
   "metadata": {},
   "source": [
    "#### 15. Create a 2d array with 1 on the border and 0 inside (★☆☆)"
   ]
  },
  {
   "cell_type": "code",
   "execution_count": 15,
   "id": "6bc84dfe",
   "metadata": {},
   "outputs": [
    {
     "name": "stdout",
     "output_type": "stream",
     "text": [
      "[[1. 1. 1. 1. 1. 1. 1. 1. 1. 1.]\n",
      " [1. 0. 0. 0. 0. 0. 0. 0. 0. 1.]\n",
      " [1. 0. 0. 0. 0. 0. 0. 0. 0. 1.]\n",
      " [1. 0. 0. 0. 0. 0. 0. 0. 0. 1.]\n",
      " [1. 0. 0. 0. 0. 0. 0. 0. 0. 1.]\n",
      " [1. 0. 0. 0. 0. 0. 0. 0. 0. 1.]\n",
      " [1. 0. 0. 0. 0. 0. 0. 0. 0. 1.]\n",
      " [1. 0. 0. 0. 0. 0. 0. 0. 0. 1.]\n",
      " [1. 0. 0. 0. 0. 0. 0. 0. 0. 1.]\n",
      " [1. 1. 1. 1. 1. 1. 1. 1. 1. 1.]]\n"
     ]
    }
   ],
   "source": [
    "arr = np.ones((10, 10))\n",
    "arr[1:-1, 1:-1] = 0\n",
    "print(arr)"
   ]
  },
  {
   "cell_type": "markdown",
   "id": "86b0206b",
   "metadata": {},
   "source": [
    "#### 16. How to add a border (filled with 0's) around an existing array? (★☆☆)"
   ]
  },
  {
   "cell_type": "code",
   "execution_count": 16,
   "id": "41e66e3e",
   "metadata": {},
   "outputs": [
    {
     "name": "stdout",
     "output_type": "stream",
     "text": [
      "[[0.         0.         0.         0.         0.        ]\n",
      " [0.         0.89522892 0.91828637 0.28525971 0.        ]\n",
      " [0.         0.43349777 0.65529382 0.67109113 0.        ]\n",
      " [0.         0.62800225 0.88972439 0.82823257 0.        ]\n",
      " [0.         0.         0.         0.         0.        ]]\n"
     ]
    }
   ],
   "source": [
    "arr = np.random.random((5, 5))\n",
    "arr[:, [0, -1]] = 0\n",
    "arr[[0, -1], :] = 0\n",
    "print(arr)\n",
    "\n",
    "# or\n",
    "\n",
    "arr = np.pad(arr, pad_width=1, mode=\"constant\", constant_values=0)"
   ]
  },
  {
   "cell_type": "markdown",
   "id": "98a45574",
   "metadata": {},
   "source": [
    "#### 17. What is the result of the following expression? (★☆☆)\n",
    "```python\n",
    "0 * np.nan\n",
    "np.nan == np.nan\n",
    "np.inf > np.nan\n",
    "np.nan - np.nan\n",
    "np.nan in set([np.nan])\n",
    "0.3 == 3 * 0.1\n",
    "```"
   ]
  },
  {
   "cell_type": "code",
   "execution_count": 17,
   "id": "7eb533d5",
   "metadata": {},
   "outputs": [
    {
     "name": "stdout",
     "output_type": "stream",
     "text": [
      "nan\n",
      "False\n",
      "False\n",
      "nan\n",
      "True\n",
      "False\n"
     ]
    }
   ],
   "source": [
    "print(0 * np.nan)\n",
    "print(np.nan == np.nan)\n",
    "print(np.inf > np.nan)\n",
    "print(np.nan - np.nan)\n",
    "print(np.nan in set([np.nan]))\n",
    "print(0.3 == 3 * 0.1)"
   ]
  },
  {
   "cell_type": "markdown",
   "id": "1486619a",
   "metadata": {},
   "source": [
    "#### 18. Create a 5x5 matrix with values 1,2,3,4 just below the diagonal (★☆☆)"
   ]
  },
  {
   "cell_type": "code",
   "execution_count": 18,
   "id": "2b9fb59c",
   "metadata": {},
   "outputs": [
    {
     "name": "stdout",
     "output_type": "stream",
     "text": [
      "[[0 0 0 0 0]\n",
      " [1 0 0 0 0]\n",
      " [0 2 0 0 0]\n",
      " [0 0 3 0 0]\n",
      " [0 0 0 4 0]]\n"
     ]
    }
   ],
   "source": [
    "mat = np.eye(5, k=-1, dtype=\"int\") * np.array([1, 2, 3, 4, 0])\n",
    "print(mat)"
   ]
  },
  {
   "cell_type": "markdown",
   "id": "319287fd",
   "metadata": {},
   "source": [
    "#### 19. Create a 8x8 matrix and fill it with a checkerboard pattern (★☆☆)"
   ]
  },
  {
   "cell_type": "code",
   "execution_count": 19,
   "id": "299f5e60",
   "metadata": {},
   "outputs": [
    {
     "name": "stdout",
     "output_type": "stream",
     "text": [
      "[['⚫' '⚪' '⚫' '⚪' '⚫' '⚪' '⚫' '⚪']\n",
      " ['⚪' '⚫' '⚪' '⚫' '⚪' '⚫' '⚪' '⚫']\n",
      " ['⚫' '⚪' '⚫' '⚪' '⚫' '⚪' '⚫' '⚪']\n",
      " ['⚪' '⚫' '⚪' '⚫' '⚪' '⚫' '⚪' '⚫']\n",
      " ['⚫' '⚪' '⚫' '⚪' '⚫' '⚪' '⚫' '⚪']\n",
      " ['⚪' '⚫' '⚪' '⚫' '⚪' '⚫' '⚪' '⚫']\n",
      " ['⚫' '⚪' '⚫' '⚪' '⚫' '⚪' '⚫' '⚪']\n",
      " ['⚪' '⚫' '⚪' '⚫' '⚪' '⚫' '⚪' '⚫']]\n"
     ]
    }
   ],
   "source": [
    "mat = np.full((8, 8), \"⚫️\", dtype=\"str\")\n",
    "mat[1::2, ::2] = \"⚪️\"\n",
    "mat[::2, 1::2] = \"⚪️\"\n",
    "print(mat)"
   ]
  },
  {
   "cell_type": "markdown",
   "id": "fb1686ed",
   "metadata": {},
   "source": [
    "#### 20. Consider a (6,7,8) shape array, what is the index (x,y,z) of the 100th element? (★☆☆)"
   ]
  },
  {
   "cell_type": "code",
   "execution_count": 20,
   "id": "22888cc4",
   "metadata": {},
   "outputs": [
    {
     "name": "stdout",
     "output_type": "stream",
     "text": [
      "The 100th index element of a (6, 7, 8) shape array = (np.int64(1), np.int64(5), np.int64(3))\n"
     ]
    }
   ],
   "source": [
    "print(\n",
    "    f\"The 100th index element of a (6, 7, 8) shape array = {np.unravel_index(99,(6,7,8))}\"\n",
    ")"
   ]
  },
  {
   "cell_type": "markdown",
   "id": "137ea278",
   "metadata": {},
   "source": [
    "#### 21. Create a checkerboard 8x8 matrix using the tile function (★☆☆)"
   ]
  },
  {
   "cell_type": "code",
   "execution_count": 21,
   "id": "9cb81fe1",
   "metadata": {},
   "outputs": [
    {
     "name": "stdout",
     "output_type": "stream",
     "text": [
      "[['🖤' '🤍' '🖤' '🤍' '🖤' '🤍' '🖤' '🤍']\n",
      " ['🤍' '🖤' '🤍' '🖤' '🤍' '🖤' '🤍' '🖤']\n",
      " ['🖤' '🤍' '🖤' '🤍' '🖤' '🤍' '🖤' '🤍']\n",
      " ['🤍' '🖤' '🤍' '🖤' '🤍' '🖤' '🤍' '🖤']\n",
      " ['🖤' '🤍' '🖤' '🤍' '🖤' '🤍' '🖤' '🤍']\n",
      " ['🤍' '🖤' '🤍' '🖤' '🤍' '🖤' '🤍' '🖤']\n",
      " ['🖤' '🤍' '🖤' '🤍' '🖤' '🤍' '🖤' '🤍']\n",
      " ['🤍' '🖤' '🤍' '🖤' '🤍' '🖤' '🤍' '🖤']]\n"
     ]
    }
   ],
   "source": [
    "row = np.array([[\"🖤\", \"🤍\"], [\"🤍\", \"🖤\"]])\n",
    "print(np.tile(row, (4, 4)))"
   ]
  },
  {
   "cell_type": "markdown",
   "id": "9319f5a1",
   "metadata": {},
   "source": [
    "#### 22. Normalize a 5x5 random matrix (★☆☆)"
   ]
  },
  {
   "cell_type": "code",
   "execution_count": 22,
   "id": "fcdc0459",
   "metadata": {},
   "outputs": [
    {
     "name": "stdout",
     "output_type": "stream",
     "text": [
      "[[5.92452613e-01 0.00000000e+00 1.00000000e+00 6.32720309e-02\n",
      "  3.91580092e-02]\n",
      " [9.73772597e-01 7.77842539e-01 5.17129946e-01 1.54429682e-01\n",
      "  4.28187488e-01]\n",
      " [8.31196332e-01 2.00406162e-01 3.82391805e-01 8.24772186e-01\n",
      "  8.56607910e-01]\n",
      " [7.00593346e-01 2.35077801e-02 7.10070822e-01 8.05066287e-01\n",
      "  8.10944322e-01]\n",
      " [5.57786241e-01 9.13913874e-05 2.32826656e-01 3.97068218e-01\n",
      "  5.73461877e-01]]\n"
     ]
    }
   ],
   "source": [
    "mat = np.random.random((5, 5))\n",
    "norm = (mat - mat.min()) / (mat.max() - mat.min())\n",
    "print(norm)"
   ]
  },
  {
   "cell_type": "markdown",
   "id": "f1902fef",
   "metadata": {},
   "source": [
    "#### 23. Create a custom dtype that describes a color as four unsigned bytes (RGBA) (★☆☆)"
   ]
  },
  {
   "cell_type": "code",
   "execution_count": 23,
   "id": "7445cb2d",
   "metadata": {},
   "outputs": [
    {
     "name": "stdout",
     "output_type": "stream",
     "text": [
      "[('r', 'u1'), ('g', 'u1'), ('b', 'u1'), ('a', 'u1')]\n"
     ]
    }
   ],
   "source": [
    "color = np.dtype([(\"r\", np.ubyte), (\"g\", np.ubyte), (\"b\", np.ubyte), (\"a\", np.ubyte)])\n",
    "print(color)"
   ]
  },
  {
   "cell_type": "markdown",
   "id": "3f34bd2a",
   "metadata": {},
   "source": [
    "#### 24. Multiply a 5x3 matrix by a 3x2 matrix (real matrix product) (★☆☆)"
   ]
  },
  {
   "cell_type": "code",
   "execution_count": 24,
   "id": "ec8bd6da",
   "metadata": {},
   "outputs": [
    {
     "name": "stdout",
     "output_type": "stream",
     "text": [
      "[[0.48773141 0.68617098]\n",
      " [0.30191971 0.39846574]\n",
      " [0.72155948 0.43468583]\n",
      " [0.70352223 0.37242921]\n",
      " [0.71887218 0.77383426]]\n"
     ]
    }
   ],
   "source": [
    "mat_A = np.random.random((5, 3))\n",
    "mat_B = np.random.random((3, 2))\n",
    "\n",
    "print(np.matmul(mat_A, mat_B))"
   ]
  },
  {
   "cell_type": "markdown",
   "id": "b1919ba3",
   "metadata": {},
   "source": [
    "#### 25. Given a 1D array, negate all elements which are between 3 and 8, in place. (★☆☆)"
   ]
  },
  {
   "cell_type": "code",
   "execution_count": 25,
   "id": "5b63b63b",
   "metadata": {},
   "outputs": [
    {
     "name": "stdout",
     "output_type": "stream",
     "text": [
      "[ 0  1  2  3 -4 -5 -6 -7  8  9]\n"
     ]
    }
   ],
   "source": [
    "arr = np.arange(10)\n",
    "arr[(3 < arr) & (arr < 8)] *= -1\n",
    "print(arr)"
   ]
  },
  {
   "cell_type": "markdown",
   "id": "fb1daa27",
   "metadata": {},
   "source": [
    "#### 26. What is the output of the following script? (★☆☆)\n",
    "```python\n",
    "# Author: Jake VanderPlas\n",
    "\n",
    "print(sum(range(5),-1))\n",
    "from numpy import *\n",
    "print(sum(range(5),-1))\n",
    "```"
   ]
  },
  {
   "cell_type": "code",
   "execution_count": 26,
   "id": "52a34d3d",
   "metadata": {},
   "outputs": [],
   "source": [
    "# 9 sum(iterable, start)\n",
    "# 10 numpy.sum(a, axis=None, dtype=None, out=None, keepdims=<no value>)"
   ]
  },
  {
   "cell_type": "markdown",
   "id": "89b7e7a7",
   "metadata": {},
   "source": [
    "#### 27. Consider an integer vector Z, which of these expressions are legal? (★☆☆)\n",
    "```python\n",
    "Z**Z\n",
    "2 << Z >> 2\n",
    "Z <- Z\n",
    "1j*Z\n",
    "Z/1/1\n",
    "Z<Z>Z\n",
    "```"
   ]
  },
  {
   "cell_type": "code",
   "execution_count": 27,
   "id": "451181cf",
   "metadata": {},
   "outputs": [
    {
     "name": "stdout",
     "output_type": "stream",
     "text": [
      "[  1   1   4  27 256]\n",
      "[0 1 2 4 8]\n",
      "[False False False False False]\n",
      "[0.+0.j 0.+1.j 0.+2.j 0.+3.j 0.+4.j]\n",
      "[0. 1. 2. 3. 4.]\n"
     ]
    }
   ],
   "source": [
    "v = np.arange(5)\n",
    "print(v**v)\n",
    "print(2 << v >> 2)\n",
    "print(v < -v)\n",
    "print(1j * v)\n",
    "print(v / 1 / 1)\n",
    "# this one ---> print(v < v > v)"
   ]
  },
  {
   "cell_type": "markdown",
   "id": "8c7601c6",
   "metadata": {},
   "source": [
    "#### 28. What are the result of the following expressions? (★☆☆)\n",
    "```python\n",
    "np.array(0) / np.array(0)\n",
    "np.array(0) // np.array(0)\n",
    "np.array([np.nan]).astype(int).astype(float)\n",
    "```"
   ]
  },
  {
   "cell_type": "code",
   "execution_count": 28,
   "id": "52983a0b",
   "metadata": {},
   "outputs": [
    {
     "name": "stdout",
     "output_type": "stream",
     "text": [
      "nan\n",
      "0\n",
      "[0.]\n"
     ]
    },
    {
     "name": "stderr",
     "output_type": "stream",
     "text": [
      "/var/folders/rj/6cfjbftj3tgcdt_v_3n95t_r0000gn/T/ipykernel_28453/3912170336.py:1: RuntimeWarning: invalid value encountered in divide\n",
      "  print(np.array(0) / np.array(0))\n",
      "/var/folders/rj/6cfjbftj3tgcdt_v_3n95t_r0000gn/T/ipykernel_28453/3912170336.py:2: RuntimeWarning: divide by zero encountered in floor_divide\n",
      "  print(np.array(0) // np.array(0))\n",
      "/var/folders/rj/6cfjbftj3tgcdt_v_3n95t_r0000gn/T/ipykernel_28453/3912170336.py:3: RuntimeWarning: invalid value encountered in cast\n",
      "  print(np.array([np.nan]).astype(int).astype(float))\n"
     ]
    }
   ],
   "source": [
    "print(np.array(0) / np.array(0))\n",
    "print(np.array(0) // np.array(0))\n",
    "print(np.array([np.nan]).astype(int).astype(float))"
   ]
  },
  {
   "cell_type": "markdown",
   "id": "06c9164d",
   "metadata": {},
   "source": [
    "#### 29. How to round away from zero a float array ? (★☆☆)"
   ]
  },
  {
   "cell_type": "code",
   "execution_count": 29,
   "id": "4cce0af8",
   "metadata": {},
   "outputs": [
    {
     "name": "stdout",
     "output_type": "stream",
     "text": [
      "[ 4. -8.  8.  4.  7. -6. -3.  9. -7.  7.]\n",
      "[ 4. -8.  8.  4.  7. -6. -3.  9. -7.  7.]\n"
     ]
    }
   ],
   "source": [
    "arr = np.random.uniform(-10, +10, 10)\n",
    "print(np.copysign(np.ceil(np.abs(arr)), arr))\n",
    "\n",
    "# More readable but less efficient\n",
    "print(np.where(arr > 0, np.ceil(arr), np.floor(arr)))"
   ]
  },
  {
   "cell_type": "markdown",
   "id": "52235994",
   "metadata": {},
   "source": [
    "#### 30. How to find common values between two arrays? (★☆☆)"
   ]
  },
  {
   "cell_type": "code",
   "execution_count": 30,
   "id": "27eff6b1",
   "metadata": {},
   "outputs": [
    {
     "name": "stdout",
     "output_type": "stream",
     "text": [
      "[0 1 6 7]\n"
     ]
    }
   ],
   "source": [
    "arr_a = np.random.randint(0, 10, 10)\n",
    "arr_b = np.random.randint(0, 10, 10)\n",
    "print(np.intersect1d(arr_a, arr_b))"
   ]
  },
  {
   "cell_type": "markdown",
   "id": "7e6f7d78",
   "metadata": {},
   "source": [
    "#### 31. How to ignore all numpy warnings (not recommended)? (★☆☆)"
   ]
  },
  {
   "cell_type": "code",
   "execution_count": null,
   "id": "1bdde6e1",
   "metadata": {},
   "outputs": [],
   "source": [
    "# Suicide mode on\n",
    "# defaults = np.seterr(all=\"ignore\")\n",
    "# Z = np.ones(1) / 0\n",
    "\n",
    "# Back to sanity\n",
    "# _ = np.seterr(**defaults)\n",
    "\n",
    "# Equivalently with a context manager\n",
    "# with np.errstate(all=\"ignore\"):\n",
    "#     np.arange(3) / 0"
   ]
  },
  {
   "cell_type": "markdown",
   "id": "b001277e",
   "metadata": {},
   "source": [
    "#### 32. Is the following expressions true? (★☆☆)\n",
    "```python\n",
    "np.sqrt(-1) == np.emath.sqrt(-1)\n",
    "```"
   ]
  },
  {
   "cell_type": "code",
   "execution_count": 2,
   "id": "d8673bdf",
   "metadata": {},
   "outputs": [
    {
     "name": "stdout",
     "output_type": "stream",
     "text": [
      "False\n"
     ]
    },
    {
     "name": "stderr",
     "output_type": "stream",
     "text": [
      "/var/folders/rj/6cfjbftj3tgcdt_v_3n95t_r0000gn/T/ipykernel_53366/2770867030.py:1: RuntimeWarning: invalid value encountered in sqrt\n",
      "  print(np.sqrt(-1) == np.emath.sqrt(-1))\n"
     ]
    }
   ],
   "source": [
    "print(np.sqrt(-1) == np.emath.sqrt(-1))"
   ]
  },
  {
   "cell_type": "markdown",
   "id": "b9a5ff84",
   "metadata": {},
   "source": [
    "#### 33. How to get the dates of yesterday, today and tomorrow? (★☆☆)"
   ]
  },
  {
   "cell_type": "code",
   "execution_count": 5,
   "id": "f33f9cc2",
   "metadata": {},
   "outputs": [
    {
     "name": "stdout",
     "output_type": "stream",
     "text": [
      "2025-03-08 2025-03-09 2025-03-09\n"
     ]
    }
   ],
   "source": [
    "yesterday = np.datetime64('today') - np.timedelta64(1)\n",
    "today     = np.datetime64('today')\n",
    "tomorrow  = np.datetime64('today') + np.timedelta64(1)\n",
    "print(yesterday, today, today)"
   ]
  },
  {
   "cell_type": "markdown",
   "id": "f8e96e58",
   "metadata": {},
   "source": [
    "#### 34. How to get all the dates corresponding to the month of July 2016? (★★☆)"
   ]
  },
  {
   "cell_type": "code",
   "execution_count": 7,
   "id": "3927a8e8",
   "metadata": {},
   "outputs": [
    {
     "name": "stdout",
     "output_type": "stream",
     "text": [
      "['2016-07-01' '2016-07-02' '2016-07-03' '2016-07-04' '2016-07-05'\n",
      " '2016-07-06' '2016-07-07' '2016-07-08' '2016-07-09' '2016-07-10'\n",
      " '2016-07-11' '2016-07-12' '2016-07-13' '2016-07-14' '2016-07-15'\n",
      " '2016-07-16' '2016-07-17' '2016-07-18' '2016-07-19' '2016-07-20'\n",
      " '2016-07-21' '2016-07-22' '2016-07-23' '2016-07-24' '2016-07-25'\n",
      " '2016-07-26' '2016-07-27' '2016-07-28' '2016-07-29' '2016-07-30'\n",
      " '2016-07-31']\n"
     ]
    }
   ],
   "source": [
    "dates = np.arange('2016-07', '2016-08', dtype='datetime64[D]')\n",
    "print(dates)"
   ]
  },
  {
   "cell_type": "markdown",
   "id": "557c163e",
   "metadata": {},
   "source": [
    "#### 35. How to compute ((A+B)*(-A/2)) in place (without copy)? (★★☆)"
   ]
  },
  {
   "cell_type": "code",
   "execution_count": 13,
   "id": "3c2f59ac",
   "metadata": {},
   "outputs": [
    {
     "name": "stdout",
     "output_type": "stream",
     "text": [
      "[0. 1. 2.] [5. 6. 7.]\n",
      "[-0.  -3.5 -9. ]\n"
     ]
    }
   ],
   "source": [
    "A = np.arange(3, dtype='float')\n",
    "B = np.arange(5,8, dtype='float')\n",
    "print(A, B)\n",
    "np.add(A, B, out=B)\n",
    "np.divide(A, 2, out=A)\n",
    "np.negative(A, out=A)\n",
    "np.multiply(A, B, out=A)\n",
    "print(A)"
   ]
  },
  {
   "cell_type": "markdown",
   "id": "14c05852",
   "metadata": {},
   "source": [
    "#### 36. Extract the integer part of a random array of positive numbers using 4 different methods (★★☆)"
   ]
  },
  {
   "cell_type": "code",
   "execution_count": null,
   "id": "8b7d2937",
   "metadata": {},
   "outputs": [
    {
     "name": "stdout",
     "output_type": "stream",
     "text": [
      "[4.20421957 0.51900086 8.75012931 3.94679786 5.86261876]\n",
      "[4. 0. 8. 3. 5.]\n",
      "[4. 0. 8. 3. 5.]\n",
      "[4. 0. 8. 3. 5.]\n",
      "[4. 0. 8. 3. 5.]\n",
      "[4 0 8 3 5]\n"
     ]
    }
   ],
   "source": [
    "arr = np.random.random(5) * 10\n",
    "\n",
    "print(arr)\n",
    "print(arr // 1) # 1\n",
    "print(np.floor(arr)) # 2\n",
    "print(arr - arr%1) # 3\n",
    "print(np.trunc(arr)) # 4\n",
    "print(arr.astype(int)) # 5\n"
   ]
  },
  {
   "cell_type": "markdown",
   "id": "003b8721",
   "metadata": {},
   "source": [
    "#### 37. Create a 5x5 matrix with row values ranging from 0 to 4 (★★☆)"
   ]
  },
  {
   "cell_type": "code",
   "execution_count": 65,
   "id": "63c75db0",
   "metadata": {},
   "outputs": [
    {
     "name": "stdout",
     "output_type": "stream",
     "text": [
      "[[0 1 2 3 4]\n",
      " [0 1 2 3 4]\n",
      " [0 1 2 3 4]\n",
      " [0 1 2 3 4]\n",
      " [0 1 2 3 4]]\n"
     ]
    }
   ],
   "source": [
    "mat = np.tile(np.arange(5), (5, 1))\n",
    "print(mat)"
   ]
  },
  {
   "cell_type": "markdown",
   "id": "8e71dc21",
   "metadata": {},
   "source": [
    "#### 38. Consider a generator function that generates 10 integers and use it to build an array (★☆☆)"
   ]
  },
  {
   "cell_type": "code",
   "execution_count": 70,
   "id": "f6aefd94",
   "metadata": {},
   "outputs": [
    {
     "name": "stdout",
     "output_type": "stream",
     "text": [
      "[0. 1. 2. 3. 4. 5. 6. 7. 8. 9.]\n"
     ]
    }
   ],
   "source": [
    "def generator():\n",
    "    for i in range(10):\n",
    "        yield i\n",
    "arr = np.fromiter(generator(), dtype='float', count=-1)\n",
    "print(arr)"
   ]
  },
  {
   "cell_type": "markdown",
   "id": "b7f03449",
   "metadata": {},
   "source": [
    "#### 39. Create a vector of size 10 with values ranging from 0 to 1, both excluded (★★☆)"
   ]
  },
  {
   "cell_type": "code",
   "execution_count": 79,
   "id": "a27cd904",
   "metadata": {},
   "outputs": [
    {
     "name": "stdout",
     "output_type": "stream",
     "text": [
      "[0.22977096 0.83591239 0.70353688 0.39898746 0.84698468 0.28023561\n",
      " 0.87291542 0.43179664 0.30584444 0.87158499]\n",
      "[0.09090909 0.18181818 0.27272727 0.36363636 0.45454545 0.54545455\n",
      " 0.63636364 0.72727273 0.81818182 0.90909091]\n"
     ]
    }
   ],
   "source": [
    "v = np.random.random(10)\n",
    "print(v)\n",
    "\n",
    "# or\n",
    "\n",
    "v1 = np.linspace(0,1,11,endpoint=False)[1:]\n",
    "print(v1)"
   ]
  },
  {
   "cell_type": "markdown",
   "id": "043156c5",
   "metadata": {},
   "source": [
    "#### 40. Create a random vector of size 10 and sort it (★★☆)"
   ]
  },
  {
   "cell_type": "code",
   "execution_count": 85,
   "id": "6ae5eb58",
   "metadata": {},
   "outputs": [
    {
     "name": "stdout",
     "output_type": "stream",
     "text": [
      "[6.74529308 1.64509425 3.54936112 0.52093748 6.70366105 5.03363688\n",
      " 5.74680982 3.47580875 7.34358902 5.62314336]\n",
      "Sorted v = [0.52093748 1.64509425 3.47580875 3.54936112 5.03363688 5.62314336\n",
      " 5.74680982 6.70366105 6.74529308 7.34358902]\n"
     ]
    }
   ],
   "source": [
    "v = np.random.random(10) * 10\n",
    "print(v)\n",
    "v.sort()\n",
    "print(f\"Sorted v = {v}\")"
   ]
  },
  {
   "cell_type": "markdown",
   "id": "4f7e8f3f",
   "metadata": {},
   "source": [
    "#### 41. How to sum a small array faster than np.sum? (★★☆)"
   ]
  },
  {
   "cell_type": "code",
   "execution_count": 89,
   "id": "88790af3",
   "metadata": {},
   "outputs": [
    {
     "name": "stdout",
     "output_type": "stream",
     "text": [
      "10\n"
     ]
    }
   ],
   "source": [
    "arr = np.add.reduce(np.arange(5))\n",
    "print(arr)"
   ]
  },
  {
   "cell_type": "markdown",
   "id": "13d1ca52",
   "metadata": {},
   "source": [
    "#### 42. Consider two random array A and B, check if they are equal (★★☆)"
   ]
  },
  {
   "cell_type": "code",
   "execution_count": null,
   "id": "ca6dd579",
   "metadata": {},
   "outputs": [
    {
     "name": "stdout",
     "output_type": "stream",
     "text": [
      "Failure\n"
     ]
    }
   ],
   "source": [
    "for i in range(10000):\n",
    "    A = np.random.randint(1, 10, 5)\n",
    "    B = np.random.randint(1, 10, 5)\n",
    "\n",
    "    eq = np.allclose(A, B) # np.array_equal(A, B) no tolerance\n",
    "    if eq:\n",
    "        print(f\"{i} --> {eq}\")\n",
    "        print(A, B)\n",
    "        print(\"Success\")\n",
    "        break\n",
    "\n",
    "    if i + 1 == 10000:\n",
    "        print(\"Failure\")\n"
   ]
  },
  {
   "cell_type": "markdown",
   "id": "cf7cca6d",
   "metadata": {},
   "source": [
    "#### 43. Make an array immutable (read-only) (★★☆)"
   ]
  },
  {
   "cell_type": "code",
   "execution_count": null,
   "id": "cbbb8917",
   "metadata": {},
   "outputs": [
    {
     "ename": "ValueError",
     "evalue": "assignment destination is read-only",
     "output_type": "error",
     "traceback": [
      "\u001b[31m---------------------------------------------------------------------------\u001b[39m",
      "\u001b[31mValueError\u001b[39m                                Traceback (most recent call last)",
      "\u001b[36mCell\u001b[39m\u001b[36m \u001b[39m\u001b[32mIn[151]\u001b[39m\u001b[32m, line 3\u001b[39m\n\u001b[32m      1\u001b[39m arr = np.arange(\u001b[32m10\u001b[39m)\n\u001b[32m      2\u001b[39m arr.flags.writeable = \u001b[38;5;28;01mFalse\u001b[39;00m\n\u001b[32m----> \u001b[39m\u001b[32m3\u001b[39m \u001b[43marr\u001b[49m\u001b[43m[\u001b[49m\u001b[32;43m2\u001b[39;49m\u001b[43m]\u001b[49m = \u001b[32m2\u001b[39m\n",
      "\u001b[31mValueError\u001b[39m: assignment destination is read-only"
     ]
    }
   ],
   "source": [
    "arr = np.arange(10)\n",
    "arr.flags.writeable = False\n",
    "arr[2] = 2 # ValueError: assignment destination is read-only"
   ]
  },
  {
   "cell_type": "markdown",
   "id": "37b0828f",
   "metadata": {},
   "source": [
    "#### 44. Consider a random 10x2 matrix representing cartesian coordinates, convert them to polar coordinates (★★☆)"
   ]
  },
  {
   "cell_type": "code",
   "execution_count": 157,
   "id": "a89969af",
   "metadata": {},
   "outputs": [
    {
     "name": "stdout",
     "output_type": "stream",
     "text": [
      "R = [0.78482248 0.41317028 0.16613528 0.74391076 0.58195125 0.61423257\n",
      " 0.34993648 1.26804068 1.12150952 0.82364783]\n",
      "T = [1.36714817 0.57752875 1.20123494 0.50945085 1.23767532 0.50735034\n",
      " 0.13130735 0.84241424 0.97902823 0.45876283]\n"
     ]
    }
   ],
   "source": [
    "mat = np.random.random((10, 2))\n",
    "X, Y = mat[:, 0], mat[:, 1]\n",
    "R = np.sqrt(X**2 + Y**2)\n",
    "T = np.arctan2(Y, X)\n",
    "print(f\"R = {R}\\nT = {T}\")"
   ]
  },
  {
   "cell_type": "markdown",
   "id": "b7d7dd80",
   "metadata": {},
   "source": [
    "#### 45. Create random vector of size 10 and replace the maximum value by 0 (★★☆)"
   ]
  },
  {
   "cell_type": "code",
   "execution_count": 159,
   "id": "8403a440",
   "metadata": {},
   "outputs": [
    {
     "name": "stdout",
     "output_type": "stream",
     "text": [
      "[1178 1833  860  223 1517  551  159  534 1369   61]\n",
      "[1178    0  860  223 1517  551  159  534 1369   61]\n"
     ]
    }
   ],
   "source": [
    "v = np.random.randint(20, 2000, 10)\n",
    "print(v)\n",
    "v[v.argmax()] = 0\n",
    "print(v)"
   ]
  },
  {
   "cell_type": "markdown",
   "id": "b47e5837",
   "metadata": {},
   "source": [
    "#### 46. Create a structured array with `x` and `y` coordinates covering the [0,1]x[0,1] area (★★☆)"
   ]
  },
  {
   "cell_type": "code",
   "execution_count": null,
   "id": "42c72e94",
   "metadata": {},
   "outputs": [],
   "source": []
  },
  {
   "cell_type": "markdown",
   "id": "8c7946ee",
   "metadata": {},
   "source": [
    "#### 47. Given two arrays, X and Y, construct the Cauchy matrix C (Cij =1/(xi - yj)) (★★☆)"
   ]
  },
  {
   "cell_type": "code",
   "execution_count": null,
   "id": "26b93f06",
   "metadata": {},
   "outputs": [],
   "source": []
  },
  {
   "cell_type": "markdown",
   "id": "3e898e5f",
   "metadata": {},
   "source": [
    "#### 48. Print the minimum and maximum representable value for each numpy scalar type (★★☆)"
   ]
  },
  {
   "cell_type": "code",
   "execution_count": null,
   "id": "afd1ae18",
   "metadata": {},
   "outputs": [],
   "source": []
  },
  {
   "cell_type": "markdown",
   "id": "6fe6133b",
   "metadata": {},
   "source": [
    "#### 49. How to print all the values of an array? (★★☆)"
   ]
  },
  {
   "cell_type": "code",
   "execution_count": null,
   "id": "5764ec92",
   "metadata": {},
   "outputs": [],
   "source": []
  },
  {
   "cell_type": "markdown",
   "id": "7ee2dacc",
   "metadata": {},
   "source": [
    "#### 50. How to find the closest value (to a given scalar) in a vector? (★★☆)"
   ]
  },
  {
   "cell_type": "code",
   "execution_count": null,
   "id": "742518ef",
   "metadata": {},
   "outputs": [],
   "source": []
  },
  {
   "cell_type": "markdown",
   "id": "cfeda6ba",
   "metadata": {},
   "source": [
    "#### 51. Create a structured array representing a position (x,y) and a color (r,g,b) (★★☆)"
   ]
  },
  {
   "cell_type": "code",
   "execution_count": null,
   "id": "9fcbd031",
   "metadata": {},
   "outputs": [],
   "source": []
  },
  {
   "cell_type": "markdown",
   "id": "b97e75b5",
   "metadata": {},
   "source": [
    "#### 52. Consider a random vector with shape (100,2) representing coordinates, find point by point distances (★★☆)"
   ]
  },
  {
   "cell_type": "code",
   "execution_count": null,
   "id": "c58a45b6",
   "metadata": {},
   "outputs": [],
   "source": []
  },
  {
   "cell_type": "markdown",
   "id": "291e0bb9",
   "metadata": {},
   "source": [
    "#### 53. How to convert a float (32 bits) array into an integer (32 bits) in place?"
   ]
  },
  {
   "cell_type": "code",
   "execution_count": null,
   "id": "2f3e6c00",
   "metadata": {},
   "outputs": [],
   "source": []
  },
  {
   "cell_type": "markdown",
   "id": "1e305e92",
   "metadata": {},
   "source": [
    "#### 54. How to read the following file? (★★☆)\n",
    "```\n",
    "1, 2, 3, 4, 5\n",
    "6,  ,  , 7, 8\n",
    " ,  , 9,10,11\n",
    "```"
   ]
  },
  {
   "cell_type": "code",
   "execution_count": null,
   "id": "753024cb",
   "metadata": {},
   "outputs": [],
   "source": []
  },
  {
   "cell_type": "markdown",
   "id": "94a8ad69",
   "metadata": {},
   "source": [
    "#### 55. What is the equivalent of enumerate for numpy arrays? (★★☆)"
   ]
  },
  {
   "cell_type": "code",
   "execution_count": null,
   "id": "ae45249f",
   "metadata": {},
   "outputs": [],
   "source": []
  },
  {
   "cell_type": "markdown",
   "id": "72b340c9",
   "metadata": {},
   "source": [
    "#### 56. Generate a generic 2D Gaussian-like array (★★☆)"
   ]
  },
  {
   "cell_type": "code",
   "execution_count": null,
   "id": "a80e5c9b",
   "metadata": {},
   "outputs": [],
   "source": []
  },
  {
   "cell_type": "markdown",
   "id": "86550d61",
   "metadata": {},
   "source": [
    "#### 57. How to randomly place p elements in a 2D array? (★★☆)"
   ]
  },
  {
   "cell_type": "code",
   "execution_count": null,
   "id": "db9f2582",
   "metadata": {},
   "outputs": [],
   "source": []
  },
  {
   "cell_type": "markdown",
   "id": "153f8cfa",
   "metadata": {},
   "source": [
    "#### 58. Subtract the mean of each row of a matrix (★★☆)"
   ]
  },
  {
   "cell_type": "code",
   "execution_count": null,
   "id": "8301cb12",
   "metadata": {},
   "outputs": [],
   "source": []
  },
  {
   "cell_type": "markdown",
   "id": "f4038090",
   "metadata": {},
   "source": [
    "#### 59. How to sort an array by the nth column? (★★☆)"
   ]
  },
  {
   "cell_type": "code",
   "execution_count": null,
   "id": "eb5745df",
   "metadata": {},
   "outputs": [],
   "source": []
  },
  {
   "cell_type": "markdown",
   "id": "20d2a462",
   "metadata": {},
   "source": [
    "#### 60. How to tell if a given 2D array has null columns? (★★☆)"
   ]
  },
  {
   "cell_type": "code",
   "execution_count": null,
   "id": "b92b7316",
   "metadata": {},
   "outputs": [],
   "source": []
  },
  {
   "cell_type": "markdown",
   "id": "bb2aa49b",
   "metadata": {},
   "source": [
    "#### 61. Find the nearest value from a given value in an array (★★☆)"
   ]
  },
  {
   "cell_type": "code",
   "execution_count": null,
   "id": "8b62e59c",
   "metadata": {},
   "outputs": [],
   "source": []
  },
  {
   "cell_type": "markdown",
   "id": "1a950e1a",
   "metadata": {},
   "source": [
    "#### 62. Considering two arrays with shape (1,3) and (3,1), how to compute their sum using an iterator? (★★☆)"
   ]
  },
  {
   "cell_type": "code",
   "execution_count": null,
   "id": "cad1d01b",
   "metadata": {},
   "outputs": [],
   "source": []
  },
  {
   "cell_type": "markdown",
   "id": "165b3a20",
   "metadata": {},
   "source": [
    "#### 63. Create an array class that has a name attribute (★★☆)"
   ]
  },
  {
   "cell_type": "code",
   "execution_count": null,
   "id": "666bf983",
   "metadata": {},
   "outputs": [],
   "source": []
  },
  {
   "cell_type": "markdown",
   "id": "87f85b12",
   "metadata": {},
   "source": [
    "#### 64. Consider a given vector, how to add 1 to each element indexed by a second vector (be careful with repeated indices)? (★★★)"
   ]
  },
  {
   "cell_type": "code",
   "execution_count": null,
   "id": "03ee4c88",
   "metadata": {},
   "outputs": [],
   "source": []
  },
  {
   "cell_type": "markdown",
   "id": "1cda27c4",
   "metadata": {},
   "source": [
    "#### 65. How to accumulate elements of a vector (X) to an array (F) based on an index list (I)? (★★★)"
   ]
  },
  {
   "cell_type": "code",
   "execution_count": null,
   "id": "aee2c782",
   "metadata": {},
   "outputs": [],
   "source": []
  },
  {
   "cell_type": "markdown",
   "id": "1db205db",
   "metadata": {},
   "source": [
    "#### 66. Considering a (w,h,3) image of (dtype=ubyte), compute the number of unique colors (★★☆)"
   ]
  },
  {
   "cell_type": "code",
   "execution_count": null,
   "id": "43204f35",
   "metadata": {},
   "outputs": [],
   "source": []
  },
  {
   "cell_type": "markdown",
   "id": "ebaf1222",
   "metadata": {},
   "source": [
    "#### 67. Considering a four dimensions array, how to get sum over the last two axis at once? (★★★)"
   ]
  },
  {
   "cell_type": "code",
   "execution_count": null,
   "id": "aabbbab9",
   "metadata": {},
   "outputs": [],
   "source": []
  },
  {
   "cell_type": "markdown",
   "id": "2dfb4033",
   "metadata": {},
   "source": [
    "#### 68. Considering a one-dimensional vector D, how to compute means of subsets of D using a vector S of same size describing subset  indices? (★★★)"
   ]
  },
  {
   "cell_type": "code",
   "execution_count": null,
   "id": "7a9c2287",
   "metadata": {},
   "outputs": [],
   "source": []
  },
  {
   "cell_type": "markdown",
   "id": "7035c626",
   "metadata": {},
   "source": [
    "#### 69. How to get the diagonal of a dot product? (★★★)"
   ]
  },
  {
   "cell_type": "code",
   "execution_count": null,
   "id": "f6af16c1",
   "metadata": {},
   "outputs": [],
   "source": []
  },
  {
   "cell_type": "markdown",
   "id": "8f73f0e5",
   "metadata": {},
   "source": [
    "#### 70. Consider the vector [1, 2, 3, 4, 5], how to build a new vector with 3 consecutive zeros interleaved between each value? (★★★)"
   ]
  },
  {
   "cell_type": "code",
   "execution_count": null,
   "id": "b0cabc11",
   "metadata": {},
   "outputs": [],
   "source": []
  },
  {
   "cell_type": "markdown",
   "id": "bafaa79e",
   "metadata": {},
   "source": [
    "#### 71. Consider an array of dimension (5,5,3), how to mulitply it by an array with dimensions (5,5)? (★★★)"
   ]
  },
  {
   "cell_type": "code",
   "execution_count": null,
   "id": "d441e30b",
   "metadata": {},
   "outputs": [],
   "source": []
  },
  {
   "cell_type": "markdown",
   "id": "80a9ac82",
   "metadata": {},
   "source": [
    "#### 72. How to swap two rows of an array? (★★★)"
   ]
  },
  {
   "cell_type": "code",
   "execution_count": null,
   "id": "1aee2791",
   "metadata": {},
   "outputs": [],
   "source": []
  },
  {
   "cell_type": "markdown",
   "id": "5e53d68c",
   "metadata": {},
   "source": [
    "#### 73. Consider a set of 10 triplets describing 10 triangles (with shared vertices), find the set of unique line segments composing all the  triangles (★★★)"
   ]
  },
  {
   "cell_type": "code",
   "execution_count": null,
   "id": "2f975322",
   "metadata": {},
   "outputs": [],
   "source": []
  },
  {
   "cell_type": "markdown",
   "id": "f85da603",
   "metadata": {},
   "source": [
    "#### 74. Given a sorted array C that corresponds to a bincount, how to produce an array A such that np.bincount(A) == C? (★★★)"
   ]
  },
  {
   "cell_type": "code",
   "execution_count": null,
   "id": "8c476a73",
   "metadata": {},
   "outputs": [],
   "source": []
  },
  {
   "cell_type": "markdown",
   "id": "a2330e6c",
   "metadata": {},
   "source": [
    "#### 75. How to compute averages using a sliding window over an array? (★★★)"
   ]
  },
  {
   "cell_type": "code",
   "execution_count": null,
   "id": "35e5e9f5",
   "metadata": {},
   "outputs": [],
   "source": []
  },
  {
   "cell_type": "markdown",
   "id": "87698de8",
   "metadata": {},
   "source": [
    "#### 76. Consider a one-dimensional array Z, build a two-dimensional array whose first row is (Z[0],Z[1],Z[2]) and each subsequent row is  shifted by 1 (last row should be (Z[-3],Z[-2],Z[-1]) (★★★)"
   ]
  },
  {
   "cell_type": "code",
   "execution_count": null,
   "id": "753763ed",
   "metadata": {},
   "outputs": [],
   "source": []
  },
  {
   "cell_type": "markdown",
   "id": "b8417b15",
   "metadata": {},
   "source": [
    "#### 77. How to negate a boolean, or to change the sign of a float inplace? (★★★)"
   ]
  },
  {
   "cell_type": "code",
   "execution_count": null,
   "id": "3cad31b2",
   "metadata": {},
   "outputs": [],
   "source": []
  },
  {
   "cell_type": "markdown",
   "id": "37a49831",
   "metadata": {},
   "source": [
    "#### 78. Consider 2 sets of points P0,P1 describing lines (2d) and a point p, how to compute distance from p to each line i (P0[i],P1[i])? (★★★)"
   ]
  },
  {
   "cell_type": "code",
   "execution_count": null,
   "id": "df95dce8",
   "metadata": {},
   "outputs": [],
   "source": []
  },
  {
   "cell_type": "markdown",
   "id": "f5ae032f",
   "metadata": {},
   "source": [
    "#### 79. Consider 2 sets of points P0,P1 describing lines (2d) and a set of points P, how to compute distance from each point j (P[j]) to each line i (P0[i],P1[i])? (★★★)"
   ]
  },
  {
   "cell_type": "code",
   "execution_count": null,
   "id": "f5ae2e9b",
   "metadata": {},
   "outputs": [],
   "source": []
  },
  {
   "cell_type": "markdown",
   "id": "6bc35ba2",
   "metadata": {},
   "source": [
    "#### 80. Consider an arbitrary array, write a function that extract a subpart with a fixed shape and centered on a given element (pad with a `fill` value when necessary) (★★★)"
   ]
  },
  {
   "cell_type": "code",
   "execution_count": null,
   "id": "2ad8db75",
   "metadata": {},
   "outputs": [],
   "source": []
  },
  {
   "cell_type": "markdown",
   "id": "d17818f7",
   "metadata": {},
   "source": [
    "#### 81. Consider an array Z = [1,2,3,4,5,6,7,8,9,10,11,12,13,14], how to generate an array R = [[1,2,3,4], [2,3,4,5], [3,4,5,6], ..., [11,12,13,14]]? (★★★)"
   ]
  },
  {
   "cell_type": "code",
   "execution_count": null,
   "id": "97deb72f",
   "metadata": {},
   "outputs": [],
   "source": []
  },
  {
   "cell_type": "markdown",
   "id": "67f526e6",
   "metadata": {},
   "source": [
    "#### 82. Compute a matrix rank (★★★)"
   ]
  },
  {
   "cell_type": "code",
   "execution_count": null,
   "id": "d70bed5b",
   "metadata": {},
   "outputs": [],
   "source": []
  },
  {
   "cell_type": "markdown",
   "id": "0a3fb55f",
   "metadata": {},
   "source": [
    "#### 83. How to find the most frequent value in an array?"
   ]
  },
  {
   "cell_type": "code",
   "execution_count": null,
   "id": "b0647d07",
   "metadata": {},
   "outputs": [],
   "source": []
  },
  {
   "cell_type": "markdown",
   "id": "cb0ac341",
   "metadata": {},
   "source": [
    "#### 84. Extract all the contiguous 3x3 blocks from a random 10x10 matrix (★★★)"
   ]
  },
  {
   "cell_type": "code",
   "execution_count": null,
   "id": "91798923",
   "metadata": {},
   "outputs": [],
   "source": []
  },
  {
   "cell_type": "markdown",
   "id": "c2a9da0d",
   "metadata": {},
   "source": [
    "#### 85. Create a 2D array subclass such that Z[i,j] == Z[j,i] (★★★)"
   ]
  },
  {
   "cell_type": "code",
   "execution_count": null,
   "id": "f9b027ff",
   "metadata": {},
   "outputs": [],
   "source": []
  },
  {
   "cell_type": "markdown",
   "id": "718ac868",
   "metadata": {},
   "source": [
    "#### 86. Consider a set of p matrices with shape (n,n) and a set of p vectors with shape (n,1). How to compute the sum of of the p matrix products at once? (result has shape (n,1)) (★★★)"
   ]
  },
  {
   "cell_type": "code",
   "execution_count": null,
   "id": "4de05217",
   "metadata": {},
   "outputs": [],
   "source": []
  },
  {
   "cell_type": "markdown",
   "id": "a6eda6f8",
   "metadata": {},
   "source": [
    "#### 87. Consider a 16x16 array, how to get the block-sum (block size is 4x4)? (★★★)"
   ]
  },
  {
   "cell_type": "code",
   "execution_count": null,
   "id": "286b8db5",
   "metadata": {},
   "outputs": [],
   "source": []
  },
  {
   "cell_type": "markdown",
   "id": "625aa611",
   "metadata": {},
   "source": [
    "#### 88. How to implement the Game of Life using numpy arrays? (★★★)"
   ]
  },
  {
   "cell_type": "code",
   "execution_count": null,
   "id": "a01c1ff2",
   "metadata": {},
   "outputs": [],
   "source": []
  },
  {
   "cell_type": "markdown",
   "id": "ca3dde4a",
   "metadata": {},
   "source": [
    "#### 89. How to get the n largest values of an array (★★★)"
   ]
  },
  {
   "cell_type": "code",
   "execution_count": null,
   "id": "5d14148c",
   "metadata": {},
   "outputs": [],
   "source": []
  },
  {
   "cell_type": "markdown",
   "id": "e233805e",
   "metadata": {},
   "source": [
    "#### 90. Given an arbitrary number of vectors, build the cartesian product (every combinations of every item) (★★★)"
   ]
  },
  {
   "cell_type": "code",
   "execution_count": null,
   "id": "17638e13",
   "metadata": {},
   "outputs": [],
   "source": []
  },
  {
   "cell_type": "markdown",
   "id": "c163f115",
   "metadata": {},
   "source": [
    "#### 91. How to create a record array from a regular array? (★★★)"
   ]
  },
  {
   "cell_type": "code",
   "execution_count": null,
   "id": "da402514",
   "metadata": {},
   "outputs": [],
   "source": []
  },
  {
   "cell_type": "markdown",
   "id": "049c006e",
   "metadata": {},
   "source": [
    "#### 92. Consider a large vector Z, compute Z to the power of 3 using 3 different methods (★★★)"
   ]
  },
  {
   "cell_type": "code",
   "execution_count": null,
   "id": "96ce278a",
   "metadata": {},
   "outputs": [],
   "source": []
  },
  {
   "cell_type": "markdown",
   "id": "6e652635",
   "metadata": {},
   "source": [
    "#### 93. Consider two arrays A and B of shape (8,3) and (2,2). How to find rows of A that contain elements of each row of B regardless of the order of the elements in B? (★★★)"
   ]
  },
  {
   "cell_type": "code",
   "execution_count": null,
   "id": "f429d6d4",
   "metadata": {},
   "outputs": [],
   "source": []
  },
  {
   "cell_type": "markdown",
   "id": "33c4755d",
   "metadata": {},
   "source": [
    "#### 94. Considering a 10x3 matrix, extract rows with unequal values (e.g. [2,2,3]) (★★★)"
   ]
  },
  {
   "cell_type": "code",
   "execution_count": null,
   "id": "29507586",
   "metadata": {},
   "outputs": [],
   "source": []
  },
  {
   "cell_type": "markdown",
   "id": "c9fe158d",
   "metadata": {},
   "source": [
    "#### 95. Convert a vector of ints into a matrix binary representation (★★★)"
   ]
  },
  {
   "cell_type": "code",
   "execution_count": null,
   "id": "58209fb7",
   "metadata": {},
   "outputs": [],
   "source": []
  },
  {
   "cell_type": "markdown",
   "id": "f60086c9",
   "metadata": {},
   "source": [
    "#### 96. Given a two dimensional array, how to extract unique rows? (★★★)"
   ]
  },
  {
   "cell_type": "code",
   "execution_count": null,
   "id": "787b6e4c",
   "metadata": {},
   "outputs": [],
   "source": []
  },
  {
   "cell_type": "markdown",
   "id": "0f5e1299",
   "metadata": {},
   "source": [
    "#### 97. Considering 2 vectors A & B, write the einsum equivalent of inner, outer, sum, and mul function (★★★)"
   ]
  },
  {
   "cell_type": "code",
   "execution_count": null,
   "id": "cd2a8214",
   "metadata": {},
   "outputs": [],
   "source": []
  },
  {
   "cell_type": "markdown",
   "id": "a04dd898",
   "metadata": {},
   "source": [
    "#### 98. Considering a path described by two vectors (X,Y), how to sample it using equidistant samples (★★★)?"
   ]
  },
  {
   "cell_type": "code",
   "execution_count": null,
   "id": "12d9c30f",
   "metadata": {},
   "outputs": [],
   "source": []
  },
  {
   "cell_type": "markdown",
   "id": "b45bf2ae",
   "metadata": {},
   "source": [
    "#### 99. Given an integer n and a 2D array X, select from X the rows which can be interpreted as draws from a multinomial distribution with n degrees, i.e., the rows which only contain integers and which sum to n. (★★★)"
   ]
  },
  {
   "cell_type": "code",
   "execution_count": null,
   "id": "f4179f4a",
   "metadata": {},
   "outputs": [],
   "source": []
  },
  {
   "cell_type": "markdown",
   "id": "d92b6592",
   "metadata": {},
   "source": [
    "#### 100. Compute bootstrapped 95% confidence intervals for the mean of a 1D array X (i.e., resample the elements of an array with replacement N times, compute the mean of each sample, and then compute percentiles over the means). (★★★)"
   ]
  },
  {
   "cell_type": "code",
   "execution_count": null,
   "id": "256ebe30",
   "metadata": {},
   "outputs": [],
   "source": []
  }
 ],
 "metadata": {
  "kernelspec": {
   "display_name": ".venv",
   "language": "python",
   "name": "python3"
  },
  "language_info": {
   "codemirror_mode": {
    "name": "ipython",
    "version": 3
   },
   "file_extension": ".py",
   "mimetype": "text/x-python",
   "name": "python",
   "nbconvert_exporter": "python",
   "pygments_lexer": "ipython3",
   "version": "3.13.0"
  }
 },
 "nbformat": 4,
 "nbformat_minor": 5
}
